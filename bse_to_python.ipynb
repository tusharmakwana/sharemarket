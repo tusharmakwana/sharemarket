{
  "cells": [
    {
      "cell_type": "code",
      "source": [
        "pip install nsetools"
      ],
      "metadata": {
        "id": "Wjlp6lGPwMSr",
        "outputId": "e5824a58-79e4-47d4-d4c9-cbc338a4f2e6",
        "colab": {
          "base_uri": "https://localhost:8080/"
        }
      },
      "execution_count": 12,
      "outputs": [
        {
          "output_type": "stream",
          "name": "stdout",
          "text": [
            "Looking in indexes: https://pypi.org/simple, https://us-python.pkg.dev/colab-wheels/public/simple/\n",
            "Requirement already satisfied: nsetools in /usr/local/lib/python3.7/dist-packages (1.0.11)\n",
            "Requirement already satisfied: dateutils in /usr/local/lib/python3.7/dist-packages (from nsetools) (0.6.12)\n",
            "Requirement already satisfied: six in /usr/local/lib/python3.7/dist-packages (from nsetools) (1.15.0)\n",
            "Requirement already satisfied: python-dateutil in /usr/local/lib/python3.7/dist-packages (from dateutils->nsetools) (2.8.2)\n",
            "Requirement already satisfied: pytz in /usr/local/lib/python3.7/dist-packages (from dateutils->nsetools) (2022.1)\n"
          ]
        }
      ]
    },
    {
      "cell_type": "code",
      "source": [
        "pip install pandas"
      ],
      "metadata": {
        "id": "o8ai7DumxSnm",
        "outputId": "12d89215-c959-46ed-80bb-308963c398b4",
        "colab": {
          "base_uri": "https://localhost:8080/"
        }
      },
      "execution_count": 15,
      "outputs": [
        {
          "output_type": "stream",
          "name": "stdout",
          "text": [
            "Looking in indexes: https://pypi.org/simple, https://us-python.pkg.dev/colab-wheels/public/simple/\n",
            "Requirement already satisfied: pandas in /usr/local/lib/python3.7/dist-packages (1.3.5)\n",
            "Requirement already satisfied: numpy>=1.17.3 in /usr/local/lib/python3.7/dist-packages (from pandas) (1.21.6)\n",
            "Requirement already satisfied: python-dateutil>=2.7.3 in /usr/local/lib/python3.7/dist-packages (from pandas) (2.8.2)\n",
            "Requirement already satisfied: pytz>=2017.3 in /usr/local/lib/python3.7/dist-packages (from pandas) (2022.1)\n",
            "Requirement already satisfied: six>=1.5 in /usr/local/lib/python3.7/dist-packages (from python-dateutil>=2.7.3->pandas) (1.15.0)\n"
          ]
        }
      ]
    },
    {
      "cell_type": "code",
      "source": [
        "from nsetools import Nse\n",
        "import pandas as pd"
      ],
      "metadata": {
        "id": "CHeAGRvJv3-d"
      },
      "execution_count": 16,
      "outputs": []
    },
    {
      "cell_type": "code",
      "source": [
        "nse = Nse()"
      ],
      "metadata": {
        "id": "0oHA8l77wWoq"
      },
      "execution_count": 17,
      "outputs": []
    },
    {
      "cell_type": "code",
      "source": [
        "top_gainers = nse.get_top_gainers()\n",
        "print(top_gainers)"
      ],
      "metadata": {
        "id": "5RhYtgaTwjbI",
        "outputId": "735a8caa-a8d5-4f62-996a-0b4c89e6b362",
        "colab": {
          "base_uri": "https://localhost:8080/"
        }
      },
      "execution_count": 18,
      "outputs": [
        {
          "output_type": "stream",
          "name": "stdout",
          "text": [
            "[{'symbol': 'ULTRACEMCO', 'series': 'EQ', 'openPrice': 6131.0, 'highPrice': 6495.0, 'lowPrice': 6099.05, 'ltp': 6431.2, 'previousPrice': 6130.7, 'netPrice': 4.9, 'tradedQuantity': 1441549.0, 'turnoverInLakhs': 91383.39, 'lastCorpAnnouncementDate': '02-Aug-2021', 'lastCorpAnnouncement': 'Annual General Meeting/Dividend - Rs 37 Per Share'}, {'symbol': 'GRASIM', 'series': 'EQ', 'openPrice': 1465.0, 'highPrice': 1530.0, 'lowPrice': 1457.1, 'ltp': 1514.0, 'previousPrice': 1464.6, 'netPrice': 3.37, 'tradedQuantity': 1643539.0, 'turnoverInLakhs': 24621.2, 'lastCorpAnnouncementDate': '12-Aug-2021', 'lastCorpAnnouncement': 'Annual General Meeting/Dividend - Rs 5  Per Share/ Special Dividend - Rs 4 Per Share'}, {'symbol': 'UPL', 'series': 'EQ', 'openPrice': 710.95, 'highPrice': 730.65, 'lowPrice': 709.0, 'ltp': 725.1, 'previousPrice': 705.0, 'netPrice': 2.85, 'tradedQuantity': 5783131.0, 'turnoverInLakhs': 41894.16, 'lastCorpAnnouncementDate': '27-Jul-2022', 'lastCorpAnnouncement': 'Dividend - Rs 10 Per Share'}, {'symbol': 'HDFCBANK', 'series': 'EQ', 'openPrice': 1366.0, 'highPrice': 1397.0, 'lowPrice': 1362.4, 'ltp': 1394.4, 'previousPrice': 1360.75, 'netPrice': 2.47, 'tradedQuantity': 6364796.0, 'turnoverInLakhs': 88119.33, 'lastCorpAnnouncementDate': '12-May-2022', 'lastCorpAnnouncement': 'Dividend - Rs 15.50 Per Share'}, {'symbol': 'HDFC', 'series': 'EQ', 'openPrice': 2260.0, 'highPrice': 2302.05, 'lowPrice': 2250.6, 'ltp': 2295.95, 'previousPrice': 2242.4, 'netPrice': 2.39, 'tradedQuantity': 3059414.0, 'turnoverInLakhs': 69774.22, 'lastCorpAnnouncementDate': '31-May-2022', 'lastCorpAnnouncement': 'Dividend - Rs 30 Per Share'}, {'symbol': 'AXISBANK', 'series': 'EQ', 'openPrice': 717.0, 'highPrice': 735.0, 'lowPrice': 715.1, 'ltp': 731.0, 'previousPrice': 715.55, 'netPrice': 2.16, 'tradedQuantity': 9713490.0, 'turnoverInLakhs': 70250.87, 'lastCorpAnnouncementDate': '07-Jul-2022', 'lastCorpAnnouncement': 'Dividend - Rs 1 Per Share'}, {'symbol': 'EICHERMOT', 'series': 'EQ', 'openPrice': 3085.15, 'highPrice': 3179.0, 'lowPrice': 3077.6, 'ltp': 3139.9, 'previousPrice': 3081.2, 'netPrice': 1.91, 'tradedQuantity': 1461794.0, 'turnoverInLakhs': 45974.59, 'lastCorpAnnouncementDate': '09-Aug-2021', 'lastCorpAnnouncement': 'Annual General Meeting/Dividend - Rs 17 Per Share'}, {'symbol': 'ICICIBANK', 'series': 'EQ', 'openPrice': 789.1, 'highPrice': 803.9, 'lowPrice': 789.1, 'ltp': 799.6, 'previousPrice': 786.0, 'netPrice': 1.73, 'tradedQuantity': 12267898.0, 'turnoverInLakhs': 97858.57, 'lastCorpAnnouncementDate': '08-Aug-2022', 'lastCorpAnnouncement': 'Dividend - Rs 5 Per Share'}, {'symbol': 'SHREECEM', 'series': 'EQ', 'openPrice': 20449.0, 'highPrice': 20887.2, 'lowPrice': 20351.0, 'ltp': 20766.05, 'previousPrice': 20442.95, 'netPrice': 1.58, 'tradedQuantity': 45573.0, 'turnoverInLakhs': 9386.29, 'lastCorpAnnouncementDate': '13-Jul-2022', 'lastCorpAnnouncement': 'Dividend - Rs 45 Per Share'}, {'symbol': 'TITAN', 'series': 'EQ', 'openPrice': 2299.0, 'highPrice': 2329.95, 'lowPrice': 2283.1, 'ltp': 2324.0, 'previousPrice': 2288.6, 'netPrice': 1.55, 'tradedQuantity': 1185176.0, 'turnoverInLakhs': 27487.08, 'lastCorpAnnouncementDate': '08-Jul-2022', 'lastCorpAnnouncement': 'Annual General Meeting/Dividend - Rs 7.50 Per Share'}]\n"
          ]
        }
      ]
    },
    {
      "cell_type": "code",
      "source": [
        " type(top_gainers)"
      ],
      "metadata": {
        "id": "lbyaoVrzw_jZ",
        "outputId": "11a98a32-aaaf-4caa-e6e1-b8e52b3b381a",
        "colab": {
          "base_uri": "https://localhost:8080/"
        }
      },
      "execution_count": 19,
      "outputs": [
        {
          "output_type": "execute_result",
          "data": {
            "text/plain": [
              "list"
            ]
          },
          "metadata": {},
          "execution_count": 19
        }
      ]
    },
    {
      "cell_type": "code",
      "source": [
        "df = pd.DataFrame(top_gainers)\n",
        "df"
      ],
      "metadata": {
        "id": "R0clxwg7xzj3",
        "outputId": "d06979c5-f7d5-466f-9355-462c6379eb83",
        "colab": {
          "base_uri": "https://localhost:8080/",
          "height": 670
        }
      },
      "execution_count": 22,
      "outputs": [
        {
          "output_type": "execute_result",
          "data": {
            "text/plain": [
              "       symbol series  openPrice  highPrice  lowPrice       ltp  previousPrice  \\\n",
              "0  ULTRACEMCO     EQ    6131.00    6495.00   6099.05   6431.20        6130.70   \n",
              "1      GRASIM     EQ    1465.00    1530.00   1457.10   1514.00        1464.60   \n",
              "2         UPL     EQ     710.95     730.65    709.00    725.10         705.00   \n",
              "3    HDFCBANK     EQ    1366.00    1397.00   1362.40   1394.40        1360.75   \n",
              "4        HDFC     EQ    2260.00    2302.05   2250.60   2295.95        2242.40   \n",
              "5    AXISBANK     EQ     717.00     735.00    715.10    731.00         715.55   \n",
              "6   EICHERMOT     EQ    3085.15    3179.00   3077.60   3139.90        3081.20   \n",
              "7   ICICIBANK     EQ     789.10     803.90    789.10    799.60         786.00   \n",
              "8    SHREECEM     EQ   20449.00   20887.20  20351.00  20766.05       20442.95   \n",
              "9       TITAN     EQ    2299.00    2329.95   2283.10   2324.00        2288.60   \n",
              "\n",
              "   netPrice  tradedQuantity  turnoverInLakhs lastCorpAnnouncementDate  \\\n",
              "0      4.90       1441549.0         91383.39              02-Aug-2021   \n",
              "1      3.37       1643539.0         24621.20              12-Aug-2021   \n",
              "2      2.85       5783131.0         41894.16              27-Jul-2022   \n",
              "3      2.47       6364796.0         88119.33              12-May-2022   \n",
              "4      2.39       3059414.0         69774.22              31-May-2022   \n",
              "5      2.16       9713490.0         70250.87              07-Jul-2022   \n",
              "6      1.91       1461794.0         45974.59              09-Aug-2021   \n",
              "7      1.73      12267898.0         97858.57              08-Aug-2022   \n",
              "8      1.58         45573.0          9386.29              13-Jul-2022   \n",
              "9      1.55       1185176.0         27487.08              08-Jul-2022   \n",
              "\n",
              "                                lastCorpAnnouncement  \n",
              "0  Annual General Meeting/Dividend - Rs 37 Per Share  \n",
              "1  Annual General Meeting/Dividend - Rs 5  Per Sh...  \n",
              "2                         Dividend - Rs 10 Per Share  \n",
              "3                      Dividend - Rs 15.50 Per Share  \n",
              "4                         Dividend - Rs 30 Per Share  \n",
              "5                          Dividend - Rs 1 Per Share  \n",
              "6  Annual General Meeting/Dividend - Rs 17 Per Share  \n",
              "7                          Dividend - Rs 5 Per Share  \n",
              "8                         Dividend - Rs 45 Per Share  \n",
              "9  Annual General Meeting/Dividend - Rs 7.50 Per ...  "
            ],
            "text/html": [
              "\n",
              "  <div id=\"df-1214d2fc-002c-41ba-ac58-728fe814a19d\">\n",
              "    <div class=\"colab-df-container\">\n",
              "      <div>\n",
              "<style scoped>\n",
              "    .dataframe tbody tr th:only-of-type {\n",
              "        vertical-align: middle;\n",
              "    }\n",
              "\n",
              "    .dataframe tbody tr th {\n",
              "        vertical-align: top;\n",
              "    }\n",
              "\n",
              "    .dataframe thead th {\n",
              "        text-align: right;\n",
              "    }\n",
              "</style>\n",
              "<table border=\"1\" class=\"dataframe\">\n",
              "  <thead>\n",
              "    <tr style=\"text-align: right;\">\n",
              "      <th></th>\n",
              "      <th>symbol</th>\n",
              "      <th>series</th>\n",
              "      <th>openPrice</th>\n",
              "      <th>highPrice</th>\n",
              "      <th>lowPrice</th>\n",
              "      <th>ltp</th>\n",
              "      <th>previousPrice</th>\n",
              "      <th>netPrice</th>\n",
              "      <th>tradedQuantity</th>\n",
              "      <th>turnoverInLakhs</th>\n",
              "      <th>lastCorpAnnouncementDate</th>\n",
              "      <th>lastCorpAnnouncement</th>\n",
              "    </tr>\n",
              "  </thead>\n",
              "  <tbody>\n",
              "    <tr>\n",
              "      <th>0</th>\n",
              "      <td>ULTRACEMCO</td>\n",
              "      <td>EQ</td>\n",
              "      <td>6131.00</td>\n",
              "      <td>6495.00</td>\n",
              "      <td>6099.05</td>\n",
              "      <td>6431.20</td>\n",
              "      <td>6130.70</td>\n",
              "      <td>4.90</td>\n",
              "      <td>1441549.0</td>\n",
              "      <td>91383.39</td>\n",
              "      <td>02-Aug-2021</td>\n",
              "      <td>Annual General Meeting/Dividend - Rs 37 Per Share</td>\n",
              "    </tr>\n",
              "    <tr>\n",
              "      <th>1</th>\n",
              "      <td>GRASIM</td>\n",
              "      <td>EQ</td>\n",
              "      <td>1465.00</td>\n",
              "      <td>1530.00</td>\n",
              "      <td>1457.10</td>\n",
              "      <td>1514.00</td>\n",
              "      <td>1464.60</td>\n",
              "      <td>3.37</td>\n",
              "      <td>1643539.0</td>\n",
              "      <td>24621.20</td>\n",
              "      <td>12-Aug-2021</td>\n",
              "      <td>Annual General Meeting/Dividend - Rs 5  Per Sh...</td>\n",
              "    </tr>\n",
              "    <tr>\n",
              "      <th>2</th>\n",
              "      <td>UPL</td>\n",
              "      <td>EQ</td>\n",
              "      <td>710.95</td>\n",
              "      <td>730.65</td>\n",
              "      <td>709.00</td>\n",
              "      <td>725.10</td>\n",
              "      <td>705.00</td>\n",
              "      <td>2.85</td>\n",
              "      <td>5783131.0</td>\n",
              "      <td>41894.16</td>\n",
              "      <td>27-Jul-2022</td>\n",
              "      <td>Dividend - Rs 10 Per Share</td>\n",
              "    </tr>\n",
              "    <tr>\n",
              "      <th>3</th>\n",
              "      <td>HDFCBANK</td>\n",
              "      <td>EQ</td>\n",
              "      <td>1366.00</td>\n",
              "      <td>1397.00</td>\n",
              "      <td>1362.40</td>\n",
              "      <td>1394.40</td>\n",
              "      <td>1360.75</td>\n",
              "      <td>2.47</td>\n",
              "      <td>6364796.0</td>\n",
              "      <td>88119.33</td>\n",
              "      <td>12-May-2022</td>\n",
              "      <td>Dividend - Rs 15.50 Per Share</td>\n",
              "    </tr>\n",
              "    <tr>\n",
              "      <th>4</th>\n",
              "      <td>HDFC</td>\n",
              "      <td>EQ</td>\n",
              "      <td>2260.00</td>\n",
              "      <td>2302.05</td>\n",
              "      <td>2250.60</td>\n",
              "      <td>2295.95</td>\n",
              "      <td>2242.40</td>\n",
              "      <td>2.39</td>\n",
              "      <td>3059414.0</td>\n",
              "      <td>69774.22</td>\n",
              "      <td>31-May-2022</td>\n",
              "      <td>Dividend - Rs 30 Per Share</td>\n",
              "    </tr>\n",
              "    <tr>\n",
              "      <th>5</th>\n",
              "      <td>AXISBANK</td>\n",
              "      <td>EQ</td>\n",
              "      <td>717.00</td>\n",
              "      <td>735.00</td>\n",
              "      <td>715.10</td>\n",
              "      <td>731.00</td>\n",
              "      <td>715.55</td>\n",
              "      <td>2.16</td>\n",
              "      <td>9713490.0</td>\n",
              "      <td>70250.87</td>\n",
              "      <td>07-Jul-2022</td>\n",
              "      <td>Dividend - Rs 1 Per Share</td>\n",
              "    </tr>\n",
              "    <tr>\n",
              "      <th>6</th>\n",
              "      <td>EICHERMOT</td>\n",
              "      <td>EQ</td>\n",
              "      <td>3085.15</td>\n",
              "      <td>3179.00</td>\n",
              "      <td>3077.60</td>\n",
              "      <td>3139.90</td>\n",
              "      <td>3081.20</td>\n",
              "      <td>1.91</td>\n",
              "      <td>1461794.0</td>\n",
              "      <td>45974.59</td>\n",
              "      <td>09-Aug-2021</td>\n",
              "      <td>Annual General Meeting/Dividend - Rs 17 Per Share</td>\n",
              "    </tr>\n",
              "    <tr>\n",
              "      <th>7</th>\n",
              "      <td>ICICIBANK</td>\n",
              "      <td>EQ</td>\n",
              "      <td>789.10</td>\n",
              "      <td>803.90</td>\n",
              "      <td>789.10</td>\n",
              "      <td>799.60</td>\n",
              "      <td>786.00</td>\n",
              "      <td>1.73</td>\n",
              "      <td>12267898.0</td>\n",
              "      <td>97858.57</td>\n",
              "      <td>08-Aug-2022</td>\n",
              "      <td>Dividend - Rs 5 Per Share</td>\n",
              "    </tr>\n",
              "    <tr>\n",
              "      <th>8</th>\n",
              "      <td>SHREECEM</td>\n",
              "      <td>EQ</td>\n",
              "      <td>20449.00</td>\n",
              "      <td>20887.20</td>\n",
              "      <td>20351.00</td>\n",
              "      <td>20766.05</td>\n",
              "      <td>20442.95</td>\n",
              "      <td>1.58</td>\n",
              "      <td>45573.0</td>\n",
              "      <td>9386.29</td>\n",
              "      <td>13-Jul-2022</td>\n",
              "      <td>Dividend - Rs 45 Per Share</td>\n",
              "    </tr>\n",
              "    <tr>\n",
              "      <th>9</th>\n",
              "      <td>TITAN</td>\n",
              "      <td>EQ</td>\n",
              "      <td>2299.00</td>\n",
              "      <td>2329.95</td>\n",
              "      <td>2283.10</td>\n",
              "      <td>2324.00</td>\n",
              "      <td>2288.60</td>\n",
              "      <td>1.55</td>\n",
              "      <td>1185176.0</td>\n",
              "      <td>27487.08</td>\n",
              "      <td>08-Jul-2022</td>\n",
              "      <td>Annual General Meeting/Dividend - Rs 7.50 Per ...</td>\n",
              "    </tr>\n",
              "  </tbody>\n",
              "</table>\n",
              "</div>\n",
              "      <button class=\"colab-df-convert\" onclick=\"convertToInteractive('df-1214d2fc-002c-41ba-ac58-728fe814a19d')\"\n",
              "              title=\"Convert this dataframe to an interactive table.\"\n",
              "              style=\"display:none;\">\n",
              "        \n",
              "  <svg xmlns=\"http://www.w3.org/2000/svg\" height=\"24px\"viewBox=\"0 0 24 24\"\n",
              "       width=\"24px\">\n",
              "    <path d=\"M0 0h24v24H0V0z\" fill=\"none\"/>\n",
              "    <path d=\"M18.56 5.44l.94 2.06.94-2.06 2.06-.94-2.06-.94-.94-2.06-.94 2.06-2.06.94zm-11 1L8.5 8.5l.94-2.06 2.06-.94-2.06-.94L8.5 2.5l-.94 2.06-2.06.94zm10 10l.94 2.06.94-2.06 2.06-.94-2.06-.94-.94-2.06-.94 2.06-2.06.94z\"/><path d=\"M17.41 7.96l-1.37-1.37c-.4-.4-.92-.59-1.43-.59-.52 0-1.04.2-1.43.59L10.3 9.45l-7.72 7.72c-.78.78-.78 2.05 0 2.83L4 21.41c.39.39.9.59 1.41.59.51 0 1.02-.2 1.41-.59l7.78-7.78 2.81-2.81c.8-.78.8-2.07 0-2.86zM5.41 20L4 18.59l7.72-7.72 1.47 1.35L5.41 20z\"/>\n",
              "  </svg>\n",
              "      </button>\n",
              "      \n",
              "  <style>\n",
              "    .colab-df-container {\n",
              "      display:flex;\n",
              "      flex-wrap:wrap;\n",
              "      gap: 12px;\n",
              "    }\n",
              "\n",
              "    .colab-df-convert {\n",
              "      background-color: #E8F0FE;\n",
              "      border: none;\n",
              "      border-radius: 50%;\n",
              "      cursor: pointer;\n",
              "      display: none;\n",
              "      fill: #1967D2;\n",
              "      height: 32px;\n",
              "      padding: 0 0 0 0;\n",
              "      width: 32px;\n",
              "    }\n",
              "\n",
              "    .colab-df-convert:hover {\n",
              "      background-color: #E2EBFA;\n",
              "      box-shadow: 0px 1px 2px rgba(60, 64, 67, 0.3), 0px 1px 3px 1px rgba(60, 64, 67, 0.15);\n",
              "      fill: #174EA6;\n",
              "    }\n",
              "\n",
              "    [theme=dark] .colab-df-convert {\n",
              "      background-color: #3B4455;\n",
              "      fill: #D2E3FC;\n",
              "    }\n",
              "\n",
              "    [theme=dark] .colab-df-convert:hover {\n",
              "      background-color: #434B5C;\n",
              "      box-shadow: 0px 1px 3px 1px rgba(0, 0, 0, 0.15);\n",
              "      filter: drop-shadow(0px 1px 2px rgba(0, 0, 0, 0.3));\n",
              "      fill: #FFFFFF;\n",
              "    }\n",
              "  </style>\n",
              "\n",
              "      <script>\n",
              "        const buttonEl =\n",
              "          document.querySelector('#df-1214d2fc-002c-41ba-ac58-728fe814a19d button.colab-df-convert');\n",
              "        buttonEl.style.display =\n",
              "          google.colab.kernel.accessAllowed ? 'block' : 'none';\n",
              "\n",
              "        async function convertToInteractive(key) {\n",
              "          const element = document.querySelector('#df-1214d2fc-002c-41ba-ac58-728fe814a19d');\n",
              "          const dataTable =\n",
              "            await google.colab.kernel.invokeFunction('convertToInteractive',\n",
              "                                                     [key], {});\n",
              "          if (!dataTable) return;\n",
              "\n",
              "          const docLinkHtml = 'Like what you see? Visit the ' +\n",
              "            '<a target=\"_blank\" href=https://colab.research.google.com/notebooks/data_table.ipynb>data table notebook</a>'\n",
              "            + ' to learn more about interactive tables.';\n",
              "          element.innerHTML = '';\n",
              "          dataTable['output_type'] = 'display_data';\n",
              "          await google.colab.output.renderOutput(dataTable, element);\n",
              "          const docLink = document.createElement('div');\n",
              "          docLink.innerHTML = docLinkHtml;\n",
              "          element.appendChild(docLink);\n",
              "        }\n",
              "      </script>\n",
              "    </div>\n",
              "  </div>\n",
              "  "
            ]
          },
          "metadata": {},
          "execution_count": 22
        }
      ]
    }
  ],
  "metadata": {
    "colab": {
      "collapsed_sections": [],
      "name": "Welcome To Colaboratory",
      "provenance": []
    },
    "kernelspec": {
      "display_name": "Python 3",
      "name": "python3"
    }
  },
  "nbformat": 4,
  "nbformat_minor": 0
}